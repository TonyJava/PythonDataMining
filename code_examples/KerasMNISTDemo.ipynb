{
 "cells": [
  {
   "cell_type": "markdown",
   "metadata": {},
   "source": [
    "# 本筆記將帶大家用Keras建模\n",
    "# 此範例使用MNIST手寫數字資料集"
   ]
  },
  {
   "cell_type": "markdown",
   "metadata": {},
   "source": [
    "---\n",
    "\n",
    "# 索引\n",
    "\n",
    "[1. 資料準備](#I.-資料準備)\n",
    "  * [1.a. 載入圖片](#1.a.-載入圖片)\n",
    "  * [1.b. 利用Pandas可迅速了解每個資料夾裡面有幾張圖片](#1.b.-利用Pandas可迅速了解每個資料夾裡面有幾張圖片)\n",
    "  * [1.c. 將圖片路徑資料切割成三份：取其80%做為train-data。 之後，剩下的20%中的10%做validation data，10%做test data](#1.c.-將圖片路徑資料切割成三份：取其80%做為train-data。-之後，剩下的20%中的10%做validation-data，10%做test-data)\n",
    "  * [1.d. 將圖片載入，存成數值矩陣](#1.d.-將圖片載入，存成數值矩陣)\n",
    "  \n",
    "\n",
    "[2. Softmax Regression](#2.-Softmax-Regression)\n",
    "\n",
    "  * [2.a. 將y 轉成one hot形式](#2.a.-將y-轉成one-hot形式)\n",
    "  * [2.b. 開始建立模型](#2.b.-開始建立模型)\n",
    "  * [2.c. 開始訓練模型](#2.c.-開始訓練模型)\n",
    "  * [2.d. 檢視訓練好的模型用於test data有多少準確率](#2.d.-檢視訓練好的模型用於test-data有多少準確率)\n",
    "  * [2.e. 檢視50筆測試資料的預測結果，以稍為了解預測是否還算ok](#2.e.-檢視50筆測試資料的預測結果，以稍為了解預測是否還算ok)\n",
    "  * [2.f. 畫出模型訓練過程](#2.f.-畫出模型訓練過程)\n",
    "  * [2.g. 儲存模型和權重](#2.g.-儲存模型和權重)\n",
    "  * [2.h. 載入存好的模型和權重](#2.h.-載入存好的模型和權重)\n",
    "  * [2.i. 輸出分類報告](#2.i.-輸出分類報告)\n",
    "  \n",
    "[3. AlexNet-like Network](#III.-AlexNet-like-Network)\n",
    "\n",
    "  * [3.a. 建立模型](#3.a.-建立模型)\n",
    "  * [3.b. 訓練模型](#3.b.-訓練模型)\n",
    "  * [3.c. 檢視模型訓練結果](#3.c.-檢視模型訓練結果)\n",
    "  * [3.d. 檢視模型準確率](#3.d.-檢視模型準確率)\n",
    "  * [3.e. 檢視分類報告](#3.e.-檢視分類報告)\n",
    "  \n",
    "---"
   ]
  },
  {
   "cell_type": "code",
   "execution_count": 1,
   "metadata": {},
   "outputs": [
    {
     "name": "stderr",
     "output_type": "stream",
     "text": [
      "Using TensorFlow backend.\n"
     ]
    }
   ],
   "source": [
    "import numpy as np\n",
    "import matplotlib.pyplot as plt\n",
    "%matplotlib inline\n",
    "import seaborn as sns\n",
    "sns.set()\n",
    "import pandas as pd\n",
    "import sklearn\n",
    "import os\n",
    "\n",
    "import keras"
   ]
  },
  {
   "cell_type": "code",
   "execution_count": 2,
   "metadata": {},
   "outputs": [
    {
     "data": {
      "text/plain": [
       "'2.0.8'"
      ]
     },
     "execution_count": 2,
     "metadata": {},
     "output_type": "execute_result"
    }
   ],
   "source": [
    "keras.__version__"
   ]
  },
  {
   "cell_type": "markdown",
   "metadata": {},
   "source": [
    "---"
   ]
  },
  {
   "cell_type": "markdown",
   "metadata": {},
   "source": [
    "### 0. 下載資料"
   ]
  },
  {
   "cell_type": "code",
   "execution_count": 3,
   "metadata": {},
   "outputs": [
    {
     "name": "stdout",
     "output_type": "stream",
     "text": [
      "retrieving MNIST data...\n",
      "extracting MNIST data...\n",
      "done!\n"
     ]
    }
   ],
   "source": [
    "from zipfile import ZipFile\n",
    "from urllib.request import urlretrieve\n",
    "\n",
    "print('retrieving MNIST data...')\n",
    "theurl = 'https://github.com/chi-hung/PythonTutorial/raw/master/datasets/mnist.tar.gz'\n",
    "filename='mnist.tar.gz'\n",
    "name, hdrs = urlretrieve(theurl, filename)\n",
    "\n",
    "print('extracting MNIST data...')\n",
    "res=!tar -xvf {filename}\n",
    "\n",
    "print('done!')"
   ]
  },
  {
   "cell_type": "markdown",
   "metadata": {},
   "source": [
    "### 1. 資料準備"
   ]
  },
  {
   "cell_type": "markdown",
   "metadata": {},
   "source": [
    "#### 1.a. 載入圖片"
   ]
  },
  {
   "cell_type": "code",
   "execution_count": 4,
   "metadata": {},
   "outputs": [],
   "source": [
    "def filePathsGen(rootPath):\n",
    "    '''此函數將rootPath資料夾目錄中的所有圖片路徑資訊儲存至一個清單內。'''\n",
    "    paths=[]\n",
    "    dirs=[]\n",
    "    for dirPath,dirNames,fileNames in os.walk(rootPath):\n",
    "        for fileName in fileNames:\n",
    "            fullPath=os.path.join(dirPath,fileName)\n",
    "            paths.append((int(dirPath[len(rootPath) ]),fullPath))\n",
    "        dirs.append(dirNames)\n",
    "    return dirs,paths"
   ]
  },
  {
   "cell_type": "code",
   "execution_count": 5,
   "metadata": {},
   "outputs": [
    {
     "data": {
      "text/html": [
       "<div>\n",
       "<style>\n",
       "    .dataframe thead tr:only-child th {\n",
       "        text-align: right;\n",
       "    }\n",
       "\n",
       "    .dataframe thead th {\n",
       "        text-align: left;\n",
       "    }\n",
       "\n",
       "    .dataframe tbody tr th {\n",
       "        vertical-align: top;\n",
       "    }\n",
       "</style>\n",
       "<table border=\"1\" class=\"dataframe\">\n",
       "  <thead>\n",
       "    <tr style=\"text-align: right;\">\n",
       "      <th></th>\n",
       "      <th>class</th>\n",
       "      <th>path</th>\n",
       "    </tr>\n",
       "  </thead>\n",
       "  <tbody>\n",
       "    <tr>\n",
       "      <th>0</th>\n",
       "      <td>7</td>\n",
       "      <td>mnist/7/27302.jpg</td>\n",
       "    </tr>\n",
       "    <tr>\n",
       "      <th>1</th>\n",
       "      <td>7</td>\n",
       "      <td>mnist/7/17031.jpg</td>\n",
       "    </tr>\n",
       "    <tr>\n",
       "      <th>2</th>\n",
       "      <td>7</td>\n",
       "      <td>mnist/7/08280.jpg</td>\n",
       "    </tr>\n",
       "  </tbody>\n",
       "</table>\n",
       "</div>"
      ],
      "text/plain": [
       "   class               path\n",
       "0      7  mnist/7/27302.jpg\n",
       "1      7  mnist/7/17031.jpg\n",
       "2      7  mnist/7/08280.jpg"
      ]
     },
     "execution_count": 5,
     "metadata": {},
     "output_type": "execute_result"
    }
   ],
   "source": [
    "dirs,paths=filePathsGen('mnist/') #載入圖片路徑\n",
    "\n",
    "dfPath=pd.DataFrame(paths,columns=['class','path']) #圖片路徑存成Pandas資料表\n",
    "dfPath.head(3) # 看資料表前3個row"
   ]
  },
  {
   "cell_type": "markdown",
   "metadata": {},
   "source": [
    "[回索引](#索引)"
   ]
  },
  {
   "cell_type": "markdown",
   "metadata": {
    "collapsed": true
   },
   "source": [
    "#### 1.b. 利用Pandas可迅速了解每個資料夾裡面有幾張圖片"
   ]
  },
  {
   "cell_type": "code",
   "execution_count": 6,
   "metadata": {},
   "outputs": [
    {
     "data": {
      "text/plain": [
       "<matplotlib.axes._subplots.AxesSubplot at 0x7f15fe0935f8>"
      ]
     },
     "execution_count": 6,
     "metadata": {},
     "output_type": "execute_result"
    },
    {
     "data": {
      "image/png": "[encoded data removed]",
      "text/plain": [
       "<matplotlib.figure.Figure at 0x7f15fe0836d8>"
      ]
     },
     "metadata": {},
     "output_type": "display_data"
    }
   ],
   "source": [
    "#依照class分群後，數各群的數量，並繪圖\n",
    "dfCountPerClass=dfPath.groupby('class').count()\n",
    "dfCountPerClass.rename(columns={'path':'amount of figures'},inplace=True)\n",
    "dfCountPerClass.plot(kind='bar',rot=0)"
   ]
  },
  {
   "cell_type": "markdown",
   "metadata": {},
   "source": [
    "[回索引](#索引)"
   ]
  },
  {
   "cell_type": "markdown",
   "metadata": {},
   "source": [
    "####  1.c. 將圖片路徑資料切割成三份：取其80%做為train data。 之後，剩下的20%中的10%做validation data，10%做test data"
   ]
  },
  {
   "cell_type": "code",
   "execution_count": 7,
   "metadata": {},
   "outputs": [
    {
     "name": "stdout",
     "output_type": "stream",
     "text": [
      "shape(all figures)=\t\t (60000, 2)\n",
      "shape(fraction of figures)=\t (18000, 2)\n",
      "shape(train)=\t\t\t (12600, 2)\n",
      "shape(trainVal)=\t\t (1800, 2)\n",
      "shape(test)=\t\t\t (3600, 2)\n"
     ]
    },
    {
     "data": {
      "image/png": "[encoded data removed]",
      "text/plain": [
       "<matplotlib.figure.Figure at 0x7f1671582048>"
      ]
     },
     "metadata": {},
     "output_type": "display_data"
    },
    {
     "data": {
      "image/png": "[encoded data removed]",
      "text/plain": [
       "<matplotlib.figure.Figure at 0x7f1671420438>"
      ]
     },
     "metadata": {},
     "output_type": "display_data"
    },
    {
     "data": {
      "image/png": "[encoded data removed]",
      "text/plain": [
       "<matplotlib.figure.Figure at 0x7f16713e8a90>"
      ]
     },
     "metadata": {},
     "output_type": "display_data"
    }
   ],
   "source": [
    "dfFiguresShuffled=dfPath.sample(frac=1)    # 打亂一下path data\n",
    "\n",
    "dfFrac=dfFiguresShuffled\n",
    "dfFrac=dfFiguresShuffled.sample(frac=0.30) # 以下範例，我們只取原資料集的30%來做使用，\n",
    "                                           # 這是為了利於在課堂中快速演練。\n",
    "    \n",
    "train=dfFrac.sample(frac=0.8) # 將path data隨機取樣，80%的path data當train\n",
    "test=dfFrac.drop(train.index) # 20%的path data當test\n",
    "\n",
    "trainVal=train.sample(frac=1/8) # 將train再切1/8做驗證用資料, 存至trainVal\n",
    "train=train.drop(trainVal.index)# 將train的7/8留著，丟去剛切出去的1/8\n",
    "\n",
    "#最終，整體資料拿70%當train, 10%當train_val, 20%當test。\n",
    "print('shape(all figures)=\\t\\t',dfPath.shape)\n",
    "print('shape(fraction of figures)=\\t',dfFrac.shape)\n",
    "print('shape(train)=\\t\\t\\t',train.shape)\n",
    "print('shape(trainVal)=\\t\\t',trainVal.shape)\n",
    "print('shape(test)=\\t\\t\\t',test.shape)\n",
    "\n",
    "#隨便抓三張圖來看\n",
    "for j in range(3):\n",
    "    img=plt.imread(train['path'].iloc[j])\n",
    "    plt.imshow(img)\n",
    "    plt.show()"
   ]
  },
  {
   "cell_type": "markdown",
   "metadata": {},
   "source": [
    "[回索引](#索引)"
   ]
  },
  {
   "cell_type": "markdown",
   "metadata": {
    "collapsed": true
   },
   "source": [
    "####  1.d. 將圖片載入，存成數值矩陣"
   ]
  },
  {
   "cell_type": "code",
   "execution_count": 8,
   "metadata": {},
   "outputs": [],
   "source": [
    "def dataLoad(dfPath):\n",
    "    paths=dfPath['path'].values\n",
    "    x=np.zeros((len(paths),28,28),dtype=np.float32 )\n",
    "\n",
    "    for j in range(len(paths)):\n",
    "        x[j,:,:]=plt.imread(paths[j])/255\n",
    "\n",
    "    y=dfPath['class'].values\n",
    "    return x,y"
   ]
  },
  {
   "cell_type": "code",
   "execution_count": 9,
   "metadata": {},
   "outputs": [],
   "source": [
    "trainX,trainY=dataLoad(train)\n",
    "trainValX,trainValY=dataLoad(trainVal)\n",
    "testX,testY=dataLoad(test)"
   ]
  },
  {
   "cell_type": "code",
   "execution_count": 10,
   "metadata": {},
   "outputs": [
    {
     "name": "stdout",
     "output_type": "stream",
     "text": [
      "train:\t (12600, 28, 28) (12600,)\n",
      "trainVal: (1800, 28, 28) (1800,)\n",
      "test:\t (3600, 28, 28) (3600,)\n"
     ]
    }
   ],
   "source": [
    "print('train:\\t',trainX.shape,trainY.shape)\n",
    "print('trainVal:',trainValX.shape,trainValY.shape)\n",
    "print('test:\\t',testX.shape,testY.shape)"
   ]
  },
  {
   "cell_type": "markdown",
   "metadata": {},
   "source": [
    "[回索引](#索引)"
   ]
  },
  {
   "cell_type": "markdown",
   "metadata": {},
   "source": [
    "## 2. Softmax Regression"
   ]
  },
  {
   "cell_type": "code",
   "execution_count": 11,
   "metadata": {},
   "outputs": [],
   "source": [
    "from keras.models import Sequential\n",
    "from keras.layers import Dense,Flatten\n",
    "from keras.optimizers import SGD"
   ]
  },
  {
   "cell_type": "markdown",
   "metadata": {},
   "source": [
    "#### 2.a. 將y 轉成one hot形式"
   ]
  },
  {
   "cell_type": "code",
   "execution_count": 12,
   "metadata": {},
   "outputs": [],
   "source": [
    "from sklearn.preprocessing import OneHotEncoder\n",
    "enc = OneHotEncoder()\n",
    "trainYOneHot=enc.fit_transform(trainY.reshape(-1,1)) \\\n",
    "                .toarray()\n",
    "\n",
    "trainValYOneHot=enc.fit_transform(trainValY.reshape(-1,1)) \\\n",
    "                   .toarray()\n",
    "\n",
    "testYOneHot=enc.fit_transform(testY.reshape(-1,1)) \\\n",
    "               .toarray()"
   ]
  },
  {
   "cell_type": "code",
   "execution_count": 13,
   "metadata": {},
   "outputs": [
    {
     "name": "stdout",
     "output_type": "stream",
     "text": [
      "train:\t (12600, 28, 28) (12600,)\n",
      "trainVal: (1800, 28, 28) (1800,)\n",
      "test:\t (3600, 28, 28) (3600,)\n"
     ]
    }
   ],
   "source": [
    "print('train:\\t',trainX.shape,trainY.shape)\n",
    "print('trainVal:',trainValX.shape,trainValY.shape)\n",
    "print('test:\\t',testX.shape,testY.shape)"
   ]
  },
  {
   "cell_type": "markdown",
   "metadata": {},
   "source": [
    "[回索引](#索引)"
   ]
  },
  {
   "cell_type": "markdown",
   "metadata": {},
   "source": [
    "#### 2.b. 開始建立模型"
   ]
  },
  {
   "cell_type": "code",
   "execution_count": 14,
   "metadata": {},
   "outputs": [],
   "source": [
    "model = Sequential()\n",
    "model.add(Flatten(input_shape=(28,28)))    # 此層將28X28的資料攤成1維\n",
    "model.add(Dense(10, activation='softmax') )# 此層將以十個神經元輸出十種數字的個別機率\n",
    "\n",
    "sgd=SGD(lr=0.1, momentum=0.0, decay=0.0) \n",
    "model.compile(optimizer='sgd',             # 告知模型訓練方式 \n",
    "      loss='categorical_crossentropy',\n",
    "      metrics=['accuracy'])"
   ]
  },
  {
   "cell_type": "code",
   "execution_count": 15,
   "metadata": {},
   "outputs": [
    {
     "name": "stdout",
     "output_type": "stream",
     "text": [
      "_________________________________________________________________\n",
      "Layer (type)                 Output Shape              Param #   \n",
      "=================================================================\n",
      "flatten_1 (Flatten)          (None, 784)               0         \n",
      "_________________________________________________________________\n",
      "dense_1 (Dense)              (None, 10)                7850      \n",
      "=================================================================\n",
      "Total params: 7,850\n",
      "Trainable params: 7,850\n",
      "Non-trainable params: 0\n",
      "_________________________________________________________________\n"
     ]
    }
   ],
   "source": [
    "# 檢視一下所訓練的模型\n",
    "model.summary()"
   ]
  },
  {
   "cell_type": "markdown",
   "metadata": {},
   "source": [
    "[回索引](#索引)"
   ]
  },
  {
   "cell_type": "markdown",
   "metadata": {},
   "source": [
    "#### 2.c. 開始訓練模型"
   ]
  },
  {
   "cell_type": "code",
   "execution_count": 16,
   "metadata": {
    "scrolled": true
   },
   "outputs": [
    {
     "name": "stdout",
     "output_type": "stream",
     "text": [
      "Train on 12600 samples, validate on 1800 samples\n",
      "Epoch 1/20\n",
      "12600/12600 [==============================] - 0s - loss: 2.0259 - acc: 0.3503 - val_loss: 1.6719 - val_acc: 0.5428\n",
      "Epoch 2/20\n",
      "12600/12600 [==============================] - 0s - loss: 1.4441 - acc: 0.6681 - val_loss: 1.3034 - val_acc: 0.6833\n",
      "Epoch 3/20\n",
      "12600/12600 [==============================] - 0s - loss: 1.1489 - acc: 0.7587 - val_loss: 1.0708 - val_acc: 0.7622\n",
      "Epoch 4/20\n",
      "12600/12600 [==============================] - 0s - loss: 0.9800 - acc: 0.7906 - val_loss: 0.9379 - val_acc: 0.7789\n",
      "Epoch 5/20\n",
      "12600/12600 [==============================] - 0s - loss: 0.8700 - acc: 0.8113 - val_loss: 0.8486 - val_acc: 0.8200\n",
      "Epoch 6/20\n",
      "12600/12600 [==============================] - 0s - loss: 0.7958 - acc: 0.8243 - val_loss: 0.7839 - val_acc: 0.8228\n",
      "Epoch 7/20\n",
      "12600/12600 [==============================] - 0s - loss: 0.7388 - acc: 0.8331 - val_loss: 0.7489 - val_acc: 0.8256\n",
      "Epoch 8/20\n",
      "12600/12600 [==============================] - 0s - loss: 0.6961 - acc: 0.8394 - val_loss: 0.7060 - val_acc: 0.8372\n",
      "Epoch 9/20\n",
      "12600/12600 [==============================] - 0s - loss: 0.6627 - acc: 0.8468 - val_loss: 0.6800 - val_acc: 0.8350\n",
      "Epoch 10/20\n",
      "12600/12600 [==============================] - 0s - loss: 0.6345 - acc: 0.8518 - val_loss: 0.6620 - val_acc: 0.8444\n",
      "Epoch 11/20\n",
      "12600/12600 [==============================] - 0s - loss: 0.6116 - acc: 0.8532 - val_loss: 0.6352 - val_acc: 0.8422\n",
      "Epoch 12/20\n",
      "12600/12600 [==============================] - 0s - loss: 0.5916 - acc: 0.8590 - val_loss: 0.6328 - val_acc: 0.8450\n",
      "Epoch 13/20\n",
      "12600/12600 [==============================] - 0s - loss: 0.5743 - acc: 0.8589 - val_loss: 0.5991 - val_acc: 0.8589\n",
      "Epoch 14/20\n",
      "12600/12600 [==============================] - 0s - loss: 0.5593 - acc: 0.8613 - val_loss: 0.5881 - val_acc: 0.8506\n",
      "Epoch 15/20\n",
      "12600/12600 [==============================] - 0s - loss: 0.5459 - acc: 0.8635 - val_loss: 0.5733 - val_acc: 0.8617\n",
      "Epoch 16/20\n",
      "12600/12600 [==============================] - 0s - loss: 0.5340 - acc: 0.8665 - val_loss: 0.5625 - val_acc: 0.8639\n",
      "Epoch 17/20\n",
      "12600/12600 [==============================] - 0s - loss: 0.5244 - acc: 0.8673 - val_loss: 0.5519 - val_acc: 0.8622\n",
      "Epoch 18/20\n",
      "12600/12600 [==============================] - 0s - loss: 0.5141 - acc: 0.8696 - val_loss: 0.5472 - val_acc: 0.8600\n",
      "Epoch 19/20\n",
      "12600/12600 [==============================] - 0s - loss: 0.5055 - acc: 0.8713 - val_loss: 0.5424 - val_acc: 0.8644\n",
      "Epoch 20/20\n",
      "12600/12600 [==============================] - 0s - loss: 0.4981 - acc: 0.8719 - val_loss: 0.5348 - val_acc: 0.8656\n"
     ]
    }
   ],
   "source": [
    "hist=model.fit(trainX, trainYOneHot,      \n",
    "               epochs=20, batch_size=128,\n",
    "               validation_data=(trainValX,trainValYOneHot))"
   ]
  },
  {
   "cell_type": "markdown",
   "metadata": {},
   "source": [
    "[回索引](#索引)"
   ]
  },
  {
   "cell_type": "markdown",
   "metadata": {},
   "source": [
    "#### 2.d. 檢視訓練好的模型用於test data有多少準確率"
   ]
  },
  {
   "cell_type": "code",
   "execution_count": 17,
   "metadata": {},
   "outputs": [
    {
     "name": "stdout",
     "output_type": "stream",
     "text": [
      " 128/3600 [>.............................] - ETA: 0s\n",
      "\n",
      "loss=0.50422230641 \n",
      "accuracy=0.874722222222\n"
     ]
    }
   ],
   "source": [
    "score = model.evaluate(testX, testYOneHot, batch_size=128)\n",
    "print()\n",
    "print('\\nloss=%s \\naccuracy=%s'%(score[0],score[1]) )"
   ]
  },
  {
   "cell_type": "code",
   "execution_count": 18,
   "metadata": {},
   "outputs": [
    {
     "data": {
      "text/plain": [
       "(28, 28)"
      ]
     },
     "execution_count": 18,
     "metadata": {},
     "output_type": "execute_result"
    }
   ],
   "source": [
    "j=0\n",
    "trainValX[j:j+1,:][0].shape"
   ]
  },
  {
   "cell_type": "markdown",
   "metadata": {},
   "source": [
    "[回索引](#索引)"
   ]
  },
  {
   "cell_type": "markdown",
   "metadata": {},
   "source": [
    "#### 2.e. 檢視50筆測試資料的預測結果，以稍為了解預測是否還算ok"
   ]
  },
  {
   "cell_type": "code",
   "execution_count": 19,
   "metadata": {},
   "outputs": [
    {
     "name": "stdout",
     "output_type": "stream",
     "text": [
      "0 0\t7 7\t5 5\t6 6\t8 8\t9 9\t9 9\t1 1\t6 6\t8 8\t7 7\t0 0\t5 5\t9 9\t6 6\t1 1\t5 5\t6 6\t3 3\t7 7\t4 4\t5 5\t1 1\t6 6\t6 6\t8 8\t0 0\t7 7\t0 0\t1 1\t3 3\t4 4\t9 9\t6 6\t6 6\t9 9\t7 9\t5 5\t0 0\t6 6\t3 3\t2 2\t9 8\t6 6\t5 8\t5 5\t5 5\t7 7\t6 6\t2 2\t"
     ]
    }
   ],
   "source": [
    "for j in range(50):\n",
    "    predY= model.predict(trainValX[j:j+1,:]).argmax()\n",
    "    trueY= trainValYOneHot[j].argmax()\n",
    "    print( predY,trueY,end='\\t')"
   ]
  },
  {
   "cell_type": "markdown",
   "metadata": {},
   "source": [
    "[回索引](#索引)"
   ]
  },
  {
   "cell_type": "markdown",
   "metadata": {},
   "source": [
    "#### 2.f. 畫出模型訓練過程"
   ]
  },
  {
   "cell_type": "code",
   "execution_count": 20,
   "metadata": {},
   "outputs": [
    {
     "data": {
      "image/png": "[encoded data removed]",
      "text/plain": [
       "<matplotlib.figure.Figure at 0x7f16713a0588>"
      ]
     },
     "metadata": {},
     "output_type": "display_data"
    }
   ],
   "source": [
    "plt.plot(hist.history['acc'],ms=5,marker='o',label='accuracy')\n",
    "plt.plot(hist.history['val_acc'],ms=5,marker='o',label='val accuracy')\n",
    "plt.legend()\n",
    "plt.show()"
   ]
  },
  {
   "cell_type": "markdown",
   "metadata": {},
   "source": [
    "[回索引](#索引)"
   ]
  },
  {
   "cell_type": "markdown",
   "metadata": {},
   "source": [
    "#### 2.g. 儲存模型和權重"
   ]
  },
  {
   "cell_type": "code",
   "execution_count": 21,
   "metadata": {},
   "outputs": [],
   "source": [
    "import json\n",
    "with open('first_try.json', 'w') as jsOut:\n",
    "    json.dump(model.to_json(), jsOut)\n",
    "\n",
    "model.save_weights('first_try.h5')"
   ]
  },
  {
   "cell_type": "markdown",
   "metadata": {},
   "source": [
    "[回索引](#索引)"
   ]
  },
  {
   "cell_type": "markdown",
   "metadata": {},
   "source": [
    "#### 2.h. 載入存好的模型和權重"
   ]
  },
  {
   "cell_type": "code",
   "execution_count": 22,
   "metadata": {},
   "outputs": [],
   "source": [
    "from keras.models import model_from_json"
   ]
  },
  {
   "cell_type": "code",
   "execution_count": 23,
   "metadata": {},
   "outputs": [],
   "source": [
    "with open('first_try.json', 'r') as jsIn:\n",
    "    modelJson=json.load(jsIn)\n",
    "    \n",
    "modelLoaded=model_from_json(modelJson)\n",
    "modelLoaded.load_weights('first_try.h5')"
   ]
  },
  {
   "cell_type": "code",
   "execution_count": 24,
   "metadata": {},
   "outputs": [
    {
     "name": "stdout",
     "output_type": "stream",
     "text": [
      "_________________________________________________________________\n",
      "Layer (type)                 Output Shape              Param #   \n",
      "=================================================================\n",
      "flatten_1 (Flatten)          (None, 784)               0         \n",
      "_________________________________________________________________\n",
      "dense_1 (Dense)              (None, 10)                7850      \n",
      "=================================================================\n",
      "Total params: 7,850\n",
      "Trainable params: 7,850\n",
      "Non-trainable params: 0\n",
      "_________________________________________________________________\n"
     ]
    }
   ],
   "source": [
    "modelLoaded.summary()"
   ]
  },
  {
   "cell_type": "markdown",
   "metadata": {},
   "source": [
    "[回索引](#索引)"
   ]
  },
  {
   "cell_type": "markdown",
   "metadata": {},
   "source": [
    "#### 2.i. 輸出分類報告"
   ]
  },
  {
   "cell_type": "code",
   "execution_count": 25,
   "metadata": {},
   "outputs": [
    {
     "name": "stdout",
     "output_type": "stream",
     "text": [
      "             precision    recall  f1-score   support\n",
      "\n",
      "          0       0.95      0.91      0.93       363\n",
      "          1       0.95      0.90      0.92       468\n",
      "          2       0.80      0.86      0.83       320\n",
      "          3       0.84      0.91      0.87       349\n",
      "          4       0.91      0.91      0.91       331\n",
      "          5       0.83      0.81      0.82       348\n",
      "          6       0.90      0.91      0.91       383\n",
      "          7       0.90      0.86      0.88       368\n",
      "          8       0.86      0.80      0.83       346\n",
      "          9       0.78      0.86      0.82       324\n",
      "\n",
      "avg / total       0.88      0.87      0.88      3600\n",
      "\n"
     ]
    }
   ],
   "source": [
    "predY=model.predict(testX).argmax(axis=1)\n",
    "from sklearn.metrics import classification_report\n",
    "print( classification_report(predY,testY) )"
   ]
  },
  {
   "cell_type": "markdown",
   "metadata": {},
   "source": [
    "[回索引](#索引)"
   ]
  },
  {
   "cell_type": "markdown",
   "metadata": {},
   "source": [
    "## 3. AlexNet-like Network"
   ]
  },
  {
   "cell_type": "code",
   "execution_count": 26,
   "metadata": {},
   "outputs": [],
   "source": [
    "trainX=trainX.reshape(*trainX.shape,1)\n",
    "trainValX=trainValX.reshape(*trainValX.shape,1)\n",
    "testX=testX.reshape(*testX.shape,1)"
   ]
  },
  {
   "cell_type": "markdown",
   "metadata": {},
   "source": [
    "#### 3.a. 建立模型"
   ]
  },
  {
   "cell_type": "code",
   "execution_count": 27,
   "metadata": {},
   "outputs": [],
   "source": [
    "from keras.models import Sequential\n",
    "from keras.layers import Dense, Dropout, Flatten,Conv2D, MaxPooling2D\n",
    "from keras.layers import Activation\n",
    "from keras.optimizers import SGD,Adam,Adamax\n",
    "\n",
    "input_shape=(28,28,1)\n",
    "\n",
    "model = Sequential()\n",
    "#conv1\n",
    "model.add(Conv2D(filters=32, kernel_size=(3, 3),\n",
    "                activation='relu',\n",
    "                input_shape=input_shape))\n",
    "#conv2\n",
    "model.add(Conv2D(filters=64, kernel_size=(3, 3), activation='relu')\n",
    "         )\n",
    "#pool1\n",
    "model.add(MaxPooling2D(pool_size=(2, 2))\n",
    "         )\n",
    "#dropout1\n",
    "model.add(Dropout(0.5))\n",
    "model.add(Flatten())\n",
    "#dense1\n",
    "model.add(Dense(128, activation='relu')\n",
    "         )\n",
    "#dropout2\n",
    "model.add(Dropout(0.5))\n",
    "#dense2\n",
    "model.add(Dense(10, activation='softmax'))\n",
    "\n",
    "model.compile(loss='categorical_crossentropy',\n",
    "              optimizer=SGD(lr=0.1, momentum=0.0, decay=0.0) ,\n",
    "              metrics=['accuracy'])"
   ]
  },
  {
   "cell_type": "markdown",
   "metadata": {},
   "source": [
    "[回索引](#索引)"
   ]
  },
  {
   "cell_type": "markdown",
   "metadata": {},
   "source": [
    "#### 3.b. 訓練模型"
   ]
  },
  {
   "cell_type": "code",
   "execution_count": 28,
   "metadata": {
    "scrolled": true
   },
   "outputs": [
    {
     "name": "stdout",
     "output_type": "stream",
     "text": [
      "Train on 12600 samples, validate on 1800 samples\n",
      "Epoch 1/20\n",
      "12600/12600 [==============================] - 1s - loss: 1.1730 - acc: 0.6094 - val_loss: 0.3077 - val_acc: 0.9122\n",
      "Epoch 2/20\n",
      "12600/12600 [==============================] - 0s - loss: 0.3537 - acc: 0.8925 - val_loss: 0.2286 - val_acc: 0.9333\n",
      "Epoch 3/20\n",
      "12600/12600 [==============================] - 0s - loss: 0.2507 - acc: 0.9257 - val_loss: 0.1716 - val_acc: 0.9500\n",
      "Epoch 4/20\n",
      "12600/12600 [==============================] - 0s - loss: 0.2076 - acc: 0.9383 - val_loss: 0.1337 - val_acc: 0.9561\n",
      "Epoch 5/20\n",
      "12600/12600 [==============================] - 0s - loss: 0.1693 - acc: 0.9471 - val_loss: 0.1117 - val_acc: 0.9606\n",
      "Epoch 6/20\n",
      "12600/12600 [==============================] - 0s - loss: 0.1561 - acc: 0.9527 - val_loss: 0.1146 - val_acc: 0.9633\n",
      "Epoch 7/20\n",
      "12600/12600 [==============================] - 0s - loss: 0.1375 - acc: 0.9594 - val_loss: 0.1040 - val_acc: 0.9639\n",
      "Epoch 8/20\n",
      "12600/12600 [==============================] - 0s - loss: 0.1255 - acc: 0.9617 - val_loss: 0.0894 - val_acc: 0.9728\n",
      "Epoch 9/20\n",
      "12600/12600 [==============================] - 0s - loss: 0.1158 - acc: 0.9658 - val_loss: 0.0856 - val_acc: 0.9706\n",
      "Epoch 10/20\n",
      "12600/12600 [==============================] - 0s - loss: 0.1133 - acc: 0.9653 - val_loss: 0.0874 - val_acc: 0.9711\n",
      "Epoch 11/20\n",
      "12600/12600 [==============================] - 0s - loss: 0.1104 - acc: 0.9656 - val_loss: 0.0836 - val_acc: 0.9706\n",
      "Epoch 12/20\n",
      "12600/12600 [==============================] - 0s - loss: 0.0960 - acc: 0.9701 - val_loss: 0.0918 - val_acc: 0.9739\n",
      "Epoch 13/20\n",
      "12600/12600 [==============================] - 0s - loss: 0.0939 - acc: 0.9710 - val_loss: 0.0827 - val_acc: 0.9739\n",
      "Epoch 14/20\n",
      "12600/12600 [==============================] - 0s - loss: 0.0880 - acc: 0.9706 - val_loss: 0.0634 - val_acc: 0.9794\n",
      "Epoch 15/20\n",
      "12600/12600 [==============================] - 0s - loss: 0.0812 - acc: 0.9737 - val_loss: 0.0734 - val_acc: 0.9756\n",
      "Epoch 16/20\n",
      "12600/12600 [==============================] - 0s - loss: 0.0755 - acc: 0.9773 - val_loss: 0.0831 - val_acc: 0.9739\n",
      "Epoch 17/20\n",
      "12600/12600 [==============================] - 0s - loss: 0.0751 - acc: 0.9759 - val_loss: 0.0690 - val_acc: 0.9744\n",
      "Epoch 18/20\n",
      "12600/12600 [==============================] - 0s - loss: 0.0727 - acc: 0.9779 - val_loss: 0.0668 - val_acc: 0.9789\n",
      "Epoch 19/20\n",
      "12600/12600 [==============================] - 0s - loss: 0.0661 - acc: 0.9797 - val_loss: 0.1074 - val_acc: 0.9694\n",
      "Epoch 20/20\n",
      "12600/12600 [==============================] - 0s - loss: 0.0621 - acc: 0.9796 - val_loss: 0.0705 - val_acc: 0.9761\n",
      "CPU times: user 14 s, sys: 3.76 s, total: 17.8 s\n",
      "Wall time: 16 s\n"
     ]
    }
   ],
   "source": [
    "%%time \n",
    "hist=model.fit(trainX, trainYOneHot, \n",
    "               epochs=20,\n",
    "               batch_size=128,\n",
    "               validation_data=(trainValX,trainValYOneHot),\n",
    "              )"
   ]
  },
  {
   "cell_type": "markdown",
   "metadata": {},
   "source": [
    "[回索引](#索引)"
   ]
  },
  {
   "cell_type": "markdown",
   "metadata": {},
   "source": [
    "#### 3.c. 檢視模型訓練結果"
   ]
  },
  {
   "cell_type": "code",
   "execution_count": 29,
   "metadata": {},
   "outputs": [
    {
     "data": {
      "image/png": "[encoded data removed]",
      "text/plain": [
       "<matplotlib.figure.Figure at 0x7f15e46446a0>"
      ]
     },
     "metadata": {},
     "output_type": "display_data"
    }
   ],
   "source": [
    "plt.plot(hist.history['acc'],ms=5,marker='o',label='accuracy')\n",
    "plt.plot(hist.history['val_acc'],ms=5,marker='o',label='val accuracy')\n",
    "plt.legend()\n",
    "plt.show()"
   ]
  },
  {
   "cell_type": "markdown",
   "metadata": {},
   "source": [
    "[回索引](#索引)"
   ]
  },
  {
   "cell_type": "markdown",
   "metadata": {},
   "source": [
    "#### 3.d. 檢視模型準確率"
   ]
  },
  {
   "cell_type": "code",
   "execution_count": 30,
   "metadata": {},
   "outputs": [
    {
     "name": "stdout",
     "output_type": "stream",
     "text": [
      "3600/3600 [==============================] - 0s     \n",
      "\n",
      "\n",
      "loss=0.0641309856996 \n",
      "accuracy=0.981666666667\n"
     ]
    }
   ],
   "source": [
    "score = model.evaluate(testX, testYOneHot, batch_size=128)\n",
    "print()\n",
    "print('\\nloss=%s \\naccuracy=%s'%(score[0],score[1]) )"
   ]
  },
  {
   "cell_type": "markdown",
   "metadata": {},
   "source": [
    "[回索引](#索引)"
   ]
  },
  {
   "cell_type": "markdown",
   "metadata": {},
   "source": [
    "#### 3.e. 檢視分類報告"
   ]
  },
  {
   "cell_type": "code",
   "execution_count": 31,
   "metadata": {},
   "outputs": [
    {
     "name": "stdout",
     "output_type": "stream",
     "text": [
      "             precision    recall  f1-score   support\n",
      "\n",
      "          0       0.99      0.99      0.99       346\n",
      "          1       0.98      0.99      0.99       438\n",
      "          2       0.98      0.98      0.98       346\n",
      "          3       0.98      0.98      0.98       375\n",
      "          4       0.98      0.98      0.98       332\n",
      "          5       0.99      0.96      0.98       351\n",
      "          6       0.98      0.99      0.99       381\n",
      "          7       0.97      0.99      0.98       348\n",
      "          8       0.98      0.97      0.97       323\n",
      "          9       0.98      0.98      0.98       360\n",
      "\n",
      "avg / total       0.98      0.98      0.98      3600\n",
      "\n"
     ]
    }
   ],
   "source": [
    "predY=model.predict(testX).argmax(axis=1)\n",
    "from sklearn.metrics import classification_report\n",
    "print( classification_report(predY,testY) )"
   ]
  },
  {
   "cell_type": "markdown",
   "metadata": {},
   "source": [
    "[回索引](#索引)"
   ]
  }
 ],
 "metadata": {
  "kernelspec": {
   "display_name": "Python 3",
   "language": "python",
   "name": "python3"
  },
  "language_info": {
   "codemirror_mode": {
    "name": "ipython",
    "version": 3
   },
   "file_extension": ".py",
   "mimetype": "text/x-python",
   "name": "python",
   "nbconvert_exporter": "python",
   "pygments_lexer": "ipython3",
   "version": "3.5.2"
  }
 },
 "nbformat": 4,
 "nbformat_minor": 2
}
